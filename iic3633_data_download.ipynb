{
  "nbformat": 4,
  "nbformat_minor": 0,
  "metadata": {
    "colab": {
      "provenance": []
    },
    "kernelspec": {
      "name": "python3",
      "display_name": "Python 3"
    },
    "language_info": {
      "name": "python"
    }
  },
  "cells": [
    {
      "cell_type": "markdown",
      "source": [
        "# 0. Set Up"
      ],
      "metadata": {
        "id": "RXYLxsJhUjGZ"
      }
    },
    {
      "cell_type": "code",
      "execution_count": null,
      "metadata": {
        "colab": {
          "base_uri": "https://localhost:8080/"
        },
        "id": "m87VhIthEHV5",
        "outputId": "3bc74085-d173-4812-9462-109623568b67"
      },
      "outputs": [
        {
          "output_type": "stream",
          "name": "stdout",
          "text": [
            "Importando librerias\n"
          ]
        }
      ],
      "source": [
        "print(\"Importando librerias\")\n",
        "import random\n",
        "from io import BytesIO\n",
        "from requests import get\n",
        "import concurrent.futures\n",
        "import gzip\n",
        "import json\n",
        "import pandas as pd\n",
        "import numpy as np\n",
        "import os\n",
        "from tqdm import tqdm\n",
        "import time\n",
        "from itertools import chain\n",
        "print(\"* Librerias importadas * \")"
      ]
    },
    {
      "cell_type": "markdown",
      "source": [
        "# `Input: City`"
      ],
      "metadata": {
        "id": "UdDDcJR2UoJT"
      }
    },
    {
      "cell_type": "markdown",
      "source": [
        "En **Archivos** debe existir dos tipos de archivos:\n",
        "1. meta-CITY_NAME.json.gz\n",
        "2. reviews-CITY_NAME.json.gz"
      ],
      "metadata": {
        "id": "4s5XOuFgWaMN"
      }
    },
    {
      "cell_type": "code",
      "source": [
        "CITY_NAME = \"Florida\""
      ],
      "metadata": {
        "id": "xga0vv9uUmCJ"
      },
      "execution_count": null,
      "outputs": []
    },
    {
      "cell_type": "markdown",
      "source": [
        "# 1. Load Metadata and Reviews"
      ],
      "metadata": {
        "id": "wyLO1OTpHriX"
      }
    },
    {
      "cell_type": "code",
      "source": [
        "def parse(path, sample_ptge=100, take_sample=False):\n",
        "  g = gzip.open(path, 'r')\n",
        "\n",
        "  if take_sample:\n",
        "    total_lines = sum(1 for _ in g)\n",
        "    g.seek(0)  # Reiniciamos puntero del archivo\n",
        "    sample_size = int(total_lines * (sample_ptge) / 100)\n",
        "\n",
        "    iterator = tqdm(g, total=total_lines, desc=\"Cargando datos\")\n",
        "\n",
        "    count = 0\n",
        "    for i, l in enumerate(iterator):\n",
        "        if random.random() > 0.5:\n",
        "\n",
        "            yield json.loads(l)\n",
        "            count += 1\n",
        "            if count >= sample_size:\n",
        "              break\n",
        "  else:\n",
        "    # Creamos un iterador tqdm para mostrar el progreso\n",
        "    iterator = tqdm(g, desc=\"Cargando datos\")\n",
        "\n",
        "    for l in iterator:\n",
        "        yield json.loads(l)\n",
        "\n",
        "# Input: Nombre de la ciudad y el porcentaje de la muestra.\n",
        "# R = booleano para cargar reviews\n",
        "# M = booleanos para cargar metadata.\n",
        "def load_data(city, sample_ptge, R=True, M=True):\n",
        "    REVIEW_PATH = f\"review-{city}_10.json.gz\"\n",
        "    METADATA_PATH = f\"meta-{city}.json.gz\"\n",
        "\n",
        "    result = [None, None]\n",
        "\n",
        "    if not os.path.exists(REVIEW_PATH):\n",
        "        print(f\"El archivo {REVIEW_PATH} no existe.\")\n",
        "        return\n",
        "\n",
        "    if not os.path.exists(METADATA_PATH):\n",
        "        print(f\"El archivo {METADATA_PATH} no existe.\")\n",
        "        return\n",
        "\n",
        "    if M:\n",
        "        print(\"Cargando Metada ... \")\n",
        "        metadata = list(parse(METADATA_PATH))\n",
        "        result[0] = metadata\n",
        "        print(\"Metadata Cargada!\")\n",
        "\n",
        "    if R:\n",
        "        print(\"Cargando Reviews ... \")\n",
        "        reviews = list(parse(REVIEW_PATH, sample_ptge=sample_ptge, take_sample=True))\n",
        "        result[1] = reviews\n",
        "        print(\"Reviews Cargadas!\")\n",
        "\n",
        "    print(\"Finalizado!\")\n",
        "    return result\n"
      ],
      "metadata": {
        "id": "PJ8ibtSn2hFA"
      },
      "execution_count": null,
      "outputs": []
    },
    {
      "cell_type": "markdown",
      "source": [
        "Tienen que subir los archivos de reviews y metadata en Archivos. Luego ingresen el nombre de la ciudad que corresponde."
      ],
      "metadata": {
        "id": "KxmukhRs3s0g"
      }
    },
    {
      "cell_type": "code",
      "source": [
        "metadata, reviews = load_data(CITY_NAME, 1)"
      ],
      "metadata": {
        "id": "qO67b7PhHq84"
      },
      "execution_count": null,
      "outputs": []
    },
    {
      "cell_type": "code",
      "source": [
        "len(reviews)"
      ],
      "metadata": {
        "id": "vRIVGRSBni5Z"
      },
      "execution_count": null,
      "outputs": []
    },
    {
      "cell_type": "code",
      "source": [
        "# Obtenemos las categorias ...\n",
        "categories = list(business['category'] for business in metadata if business['category'] is not None)\n",
        "categories = list(chain.from_iterable(categories))\n",
        "categories = list(set(categories))"
      ],
      "metadata": {
        "id": "jtcTjy1QWxya"
      },
      "execution_count": null,
      "outputs": []
    },
    {
      "cell_type": "code",
      "source": [
        "# Obtenemos las categorias asociadas a restaurantes.\n",
        "restaurant_categories = []\n",
        "for categ in categories:\n",
        "    categ_low = categ.lower()\n",
        "    if 'restaurant' in categ_low or 'restaurante' in categ_low:\n",
        "        restaurant_categories.append(categ)"
      ],
      "metadata": {
        "id": "zJUYKFMlXQNB"
      },
      "execution_count": null,
      "outputs": []
    },
    {
      "cell_type": "code",
      "source": [
        "gmap_id_to_metadata = {business['gmap_id'] : business for business in metadata}"
      ],
      "metadata": {
        "id": "pD1LWgyObLZ2"
      },
      "execution_count": null,
      "outputs": []
    },
    {
      "cell_type": "code",
      "source": [
        "def verify_is_restaurant(categories):\n",
        "    # si no presenta informacion, no lo agregamos\n",
        "    if categories is None:\n",
        "        return False\n",
        "    # si es restaurante, retornamos true\n",
        "    for categ in categories:\n",
        "        categ_low = categ.lower()\n",
        "        if 'restaurant' in categ_low:\n",
        "            return True\n",
        "    # en otro caso, no se agrega\n",
        "    return False\n",
        "\n",
        "# Guardamos todas las reviews asociadas a restaurantes.\n",
        "restaurant_reviews = []\n",
        "\n",
        "for rev in reviews:\n",
        "    gmap_id = rev['gmap_id']\n",
        "    category_list = gmap_id_to_metadata[gmap_id]['category']\n",
        "    is_restaurant = verify_is_restaurant(category_list) # booleano\n",
        "    if is_restaurant:\n",
        "        restaurant_reviews.append(rev)"
      ],
      "metadata": {
        "id": "Df00aWtIa5hQ"
      },
      "execution_count": null,
      "outputs": []
    },
    {
      "cell_type": "code",
      "source": [
        "# Creamos el dataframe asociado.\n",
        "data = {\n",
        "    'user_id' : [],\n",
        "    'gmap_id' : [],\n",
        "    'rating' : [],\n",
        "    'text' : [],\n",
        "    'img_url' : [],\n",
        "    'img_filename' : [],\n",
        "    'state': [],\n",
        "}\n",
        "\n",
        "for review in restaurant_reviews:\n",
        "    gmap_id = review['gmap_id']\n",
        "    has_img = review['pics'] is not None\n",
        "    has_text = review['text'] is not None\n",
        "    has_all_info = has_img and has_text\n",
        "    is_duplicated = gmap_id in data['gmap_id']\n",
        "\n",
        "    if not has_all_info: continue\n",
        "\n",
        "    if is_duplicated: continue\n",
        "\n",
        "    # business pic\n",
        "    pics = review['pics']\n",
        "    first_pic = pics[0]\n",
        "    url_first_pic = first_pic['url'][0] # select the first pic\n",
        "\n",
        "    # business text\n",
        "    text = review['text']\n",
        "\n",
        "    # reviews's rating\n",
        "    rating = review['rating']\n",
        "\n",
        "    # user id\n",
        "    user_id = review['user_id']\n",
        "\n",
        "    # estado asociada\n",
        "    data['state'].append(CITY_NAME)\n",
        "\n",
        "    data['user_id'].append(user_id)\n",
        "    data['gmap_id'].append(gmap_id)\n",
        "    data['rating'].append(rating)\n",
        "    data['text'].append(text)\n",
        "    data['img_url'].append(url_first_pic)\n",
        "    data['img_filename'].append(None)\n",
        "\n",
        "df = pd.DataFrame(data)"
      ],
      "metadata": {
        "id": "68GrgmC-Hj64"
      },
      "execution_count": null,
      "outputs": []
    },
    {
      "cell_type": "code",
      "source": [
        "df.head()"
      ],
      "metadata": {
        "id": "mcy-zvXrdyAW"
      },
      "execution_count": null,
      "outputs": []
    },
    {
      "cell_type": "code",
      "source": [
        "df.shape"
      ],
      "metadata": {
        "id": "J9VuGIv4DZT5"
      },
      "execution_count": null,
      "outputs": []
    },
    {
      "cell_type": "code",
      "source": [
        "image_data = df[['gmap_id', 'img_url']]\n",
        "indexes_to_drop = []\n",
        "\n",
        "\"\"\"\n",
        "fuente: https://medium.com/analytics-vidhya/how-to-download-images-faster-using-multithreading-in-python-a31110468770\n",
        "\"\"\"\n",
        "\n",
        "def download_image(row, folder_name):\n",
        "    gmap_id, img_url = row.gmap_id, row.img_url\n",
        "    specific_data = df[(df.gmap_id == gmap_id) & (df.img_url == img_url)]\n",
        "    index = specific_data.index[0]\n",
        "    prefix = folder_name\n",
        "    img_path = f'{prefix}/{gmap_id}.png'\n",
        "\n",
        "    if os.path.isfile(img_path): # caso en que exista\n",
        "        print(f\"- [⚠️] La imagen {img_path} ya esta en la carpeta\")\n",
        "        return\n",
        "    response = get(img_url)\n",
        "\n",
        "    if response.status_code == 200:\n",
        "        curr_images = len(os.listdir(folder_name))\n",
        "        print(f\"- [✅] ({curr_images}/{image_data.shape[0]}) Descargando y guardando imagen {gmap_id}.png con exito\")\n",
        "        img_bytes = response.content\n",
        "        with open(img_path, 'wb') as img_file:\n",
        "            img_file.write(img_bytes)\n",
        "\n",
        "        df.at[index, 'img_filename'] = img_path\n",
        "    else:\n",
        "        print(f\"- [❌] Imagen {img_url} no puede ser descargada\")\n",
        "        indexes_to_drop.append(index)\n",
        "\n",
        "def create_folder(folder_name):\n",
        "    print(f\"Creando carpeta '{folder_name}/'\")\n",
        "    os.makedirs(folder_name, exist_ok=True)\n",
        "\n",
        "    t1 = time.perf_counter()\n",
        "\n",
        "    with concurrent.futures.ThreadPoolExecutor(max_workers=50) as executor: # Pueden alterar la cantidad de workers segun el rendimiento\n",
        "        for row in image_data.itertuples():\n",
        "            executor.submit(download_image, row, folder_name)\n",
        "\n",
        "    t2 = time.perf_counter()\n",
        "\n",
        "    print(f'Finished in {t2-t1} seconds')\n"
      ],
      "metadata": {
        "id": "H-pKnrpsELoy"
      },
      "execution_count": null,
      "outputs": []
    },
    {
      "cell_type": "markdown",
      "source": [
        "# 2. Images Requests"
      ],
      "metadata": {
        "id": "yGCo0O5oVjYR"
      }
    },
    {
      "cell_type": "code",
      "source": [
        "FOLDER_NAME = CITY_NAME"
      ],
      "metadata": {
        "id": "0c5O-clsVhqo"
      },
      "execution_count": null,
      "outputs": []
    },
    {
      "cell_type": "code",
      "source": [
        "create_folder(FOLDER_NAME)"
      ],
      "metadata": {
        "id": "akByerTpFBKl"
      },
      "execution_count": null,
      "outputs": []
    },
    {
      "cell_type": "code",
      "source": [
        "# ojo, probablemente no todos los request sean efectivos,\n",
        "# por lo tanto, es probable que algunas imagenes no se descarguen\n",
        "len(os.listdir(FOLDER_NAME))"
      ],
      "metadata": {
        "id": "B810VwFXSr4G"
      },
      "execution_count": null,
      "outputs": []
    },
    {
      "cell_type": "code",
      "source": [
        "%%capture\n",
        "!zip -r Florida.zip Florida # Cambiar al nombre de la ciudad"
      ],
      "metadata": {
        "id": "Eo5hdc1UFCKx"
      },
      "execution_count": null,
      "outputs": []
    },
    {
      "cell_type": "code",
      "source": [
        "def image_in_folder(row):\n",
        "    img_url = row.gmap_id + '.png'\n",
        "    if img_url not in os.listdir(FOLDER_NAME):\n",
        "        return False\n",
        "    return True\n",
        "\n",
        "df['image_in_folder'] = df.apply(image_in_folder, axis=1)"
      ],
      "metadata": {
        "id": "lSwvVqtXXwUP"
      },
      "execution_count": null,
      "outputs": []
    },
    {
      "cell_type": "code",
      "source": [
        "df_filtered = df[df.image_in_folder]"
      ],
      "metadata": {
        "id": "KuPVJOUYT-3I"
      },
      "execution_count": null,
      "outputs": []
    },
    {
      "cell_type": "code",
      "source": [
        "df_filtered.drop(columns=['image_in_folder'], inplace=True)"
      ],
      "metadata": {
        "id": "8UeQRaYxWjh6"
      },
      "execution_count": null,
      "outputs": []
    },
    {
      "cell_type": "code",
      "source": [
        "for row in df_filtered.itertuples():\n",
        "    filename = row.gmap_id + '.png'\n",
        "    if filename not in os.listdir(FOLDER_NAME):\n",
        "        print(filename)"
      ],
      "metadata": {
        "id": "uTXlZIHKZWcP"
      },
      "execution_count": null,
      "outputs": []
    },
    {
      "cell_type": "markdown",
      "source": [
        "# 3. Final Dataframe"
      ],
      "metadata": {
        "id": "ENqpRDd-U-Yw"
      }
    },
    {
      "cell_type": "code",
      "source": [
        "print('Reviews de restaurantes vs Total (%): ', df_filtered.shape[0] / len(reviews  * 100))\n",
        "print('Cantidad total de reviews de restaurantes: ', df_filtered.shape[0])\n",
        "print('Cantidad total de reviews: ', len(reviews))"
      ],
      "metadata": {
        "id": "QTbES2qJVCH0"
      },
      "execution_count": null,
      "outputs": []
    },
    {
      "cell_type": "code",
      "source": [
        "df_filtered.head()"
      ],
      "metadata": {
        "id": "7d1gebLBZwuB"
      },
      "execution_count": null,
      "outputs": []
    },
    {
      "cell_type": "code",
      "source": [
        "df_filtered.to_csv(f'Reviews{FOLDER_NAME}.csv', index=False)"
      ],
      "metadata": {
        "id": "1xYs4Je_Zxqm"
      },
      "execution_count": null,
      "outputs": []
    },
    {
      "cell_type": "code",
      "source": [],
      "metadata": {
        "id": "tqDD6lGpqKxp"
      },
      "execution_count": null,
      "outputs": []
    }
  ]
}
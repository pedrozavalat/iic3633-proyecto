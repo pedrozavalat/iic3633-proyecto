{
  "nbformat": 4,
  "nbformat_minor": 0,
  "metadata": {
    "colab": {
      "provenance": [],
      "toc_visible": true
    },
    "kernelspec": {
      "name": "python3",
      "display_name": "Python 3"
    },
    "language_info": {
      "name": "python"
    }
  },
  "cells": [
    {
      "cell_type": "code",
      "execution_count": 2,
      "metadata": {
        "id": "SKafGgeGboMg"
      },
      "outputs": [],
      "source": [
        "%%capture\n",
        "!wget https://www.dropbox.com/scl/fi/uznju0fkgnwz1yi4cmgol/review-Vermont.json.gz?rlkey=4l3mithogu5c08x5lxe6pbb6t&st=wcprbsjo&dl=0\n",
        "!wget https://www.dropbox.com/scl/fi/16vy3q077mz01n4r2nml1/meta-Vermont.json.gz?rlkey=zu5joaocmaqdg0p17oj14z5lz&st=kih98lc6&dl=0\n",
        "!mv review-Vermont.json.gz?rlkey=4l3mithogu5c08x5lxe6pbb6t review-Vermont.json.gz\n",
        "!mv meta-Vermont.json.gz?rlkey=zu5joaocmaqdg0p17oj14z5lz meta-Vermont.json.gz\n",
        "!pip install cornac"
      ]
    },
    {
      "cell_type": "code",
      "source": [
        "%%capture\n",
        "!pip install pyreclab"
      ],
      "metadata": {
        "id": "FQMJWOrZb2aY"
      },
      "execution_count": 3,
      "outputs": []
    },
    {
      "cell_type": "code",
      "source": [
        "import pandas as pd\n",
        "import numpy as np\n",
        "import json\n",
        "import gzip\n",
        "import cornac\n",
        "import pyreclab\n",
        "import random\n",
        "from sklearn.model_selection import train_test_split\n",
        "import scipy.sparse as sparse"
      ],
      "metadata": {
        "id": "SPXqB3xRbp7L"
      },
      "execution_count": 224,
      "outputs": []
    },
    {
      "cell_type": "code",
      "source": [
        "def parse(path):\n",
        "  g = gzip.open(path, 'r')\n",
        "  for l in g:\n",
        "    yield json.loads(l)"
      ],
      "metadata": {
        "id": "KvBB4nMLbsbF"
      },
      "execution_count": 5,
      "outputs": []
    },
    {
      "cell_type": "code",
      "source": [
        "metadata = list(parse(\"meta-Vermont.json.gz\"))\n",
        "reviews = list(parse(\"review-Vermont.json.gz\"))"
      ],
      "metadata": {
        "id": "1bvfivYGbt5F"
      },
      "execution_count": 6,
      "outputs": []
    },
    {
      "cell_type": "code",
      "source": [
        "data = {\n",
        "    'user_id' : [],\n",
        "    'gmap_id' : [],\n",
        "    'rating' : [],\n",
        "    'text' : [],\n",
        "    'img_url' : []\n",
        "}\n",
        "\n",
        "for review in reviews:\n",
        "    has_img = review['pics'] is not None\n",
        "    has_text = review['text'] is not None\n",
        "\n",
        "    if has_img and has_text:\n",
        "        # business pic\n",
        "        pics = review['pics']\n",
        "        first_pic = pics[0]\n",
        "        url_first_pic = first_pic['url'][0] # select the first pic\n",
        "\n",
        "        # business text\n",
        "        text = review['text']\n",
        "\n",
        "        # reviews's rating\n",
        "        rating = review['rating']\n",
        "\n",
        "        # user id\n",
        "        user_id = review['user_id']\n",
        "\n",
        "        # business id (restaurant id)\n",
        "        gmap_id = review['gmap_id']\n",
        "\n",
        "        data['user_id'].append(user_id)\n",
        "        data['gmap_id'].append(gmap_id)\n",
        "        data['rating'].append(rating)\n",
        "        data['text'].append(text)\n",
        "        data['img_url'].append(url_first_pic)\n",
        "\n",
        "df = pd.DataFrame(data)\n"
      ],
      "metadata": {
        "id": "LDTDi6cabwqK"
      },
      "execution_count": 7,
      "outputs": []
    },
    {
      "cell_type": "code",
      "source": [
        "df_uir = df[['user_id', 'gmap_id', 'rating']]"
      ],
      "metadata": {
        "id": "z4bg6mKkbx3I"
      },
      "execution_count": 18,
      "outputs": []
    },
    {
      "cell_type": "code",
      "source": [
        "SIZE = 0.7\n",
        "n_rows = int(df_uir.shape[0] * SIZE)"
      ],
      "metadata": {
        "id": "5mmUkqGadjGe"
      },
      "execution_count": 141,
      "outputs": []
    },
    {
      "cell_type": "code",
      "source": [
        "X_train, X_test = train_test_split(df_uir, test_size=0.2, random_state=42)"
      ],
      "metadata": {
        "id": "yagZzC6Om4Gj"
      },
      "execution_count": 156,
      "outputs": []
    },
    {
      "cell_type": "code",
      "source": [
        "print(X_test.shape[0] + X_train.shape[0], df_uir.shape[0])"
      ],
      "metadata": {
        "colab": {
          "base_uri": "https://localhost:8080/"
        },
        "id": "BkBNI1VNgoCF",
        "outputId": "b46f0218-81b2-43c0-c9ac-9a19932ad2b6"
      },
      "execution_count": 158,
      "outputs": [
        {
          "output_type": "stream",
          "name": "stdout",
          "text": [
            "27167 27167\n"
          ]
        }
      ]
    },
    {
      "cell_type": "code",
      "source": [
        "X_train.to_csv('reviews_train.csv', index=False)\n",
        "X_test.to_csv('reviews_test.csv', index=False)"
      ],
      "metadata": {
        "id": "EK8Cp91fePDf"
      },
      "execution_count": 159,
      "outputs": []
    },
    {
      "cell_type": "markdown",
      "source": [
        "# Models"
      ],
      "metadata": {
        "id": "U3DtpdJ5ckjf"
      }
    },
    {
      "cell_type": "markdown",
      "source": [
        "## Most popular"
      ],
      "metadata": {
        "id": "q4SvlMjecoFN"
      }
    },
    {
      "cell_type": "code",
      "source": [
        "model_mp = pyreclab.MostPopular(\n",
        "    dataset= 'reviews_train.csv',\n",
        "    header = True,\n",
        "    usercol = 0,\n",
        "    itemcol = 1,\n",
        "    ratingcol = 2\n",
        ")"
      ],
      "metadata": {
        "id": "fmUDK3R7cFL7"
      },
      "execution_count": 277,
      "outputs": []
    },
    {
      "cell_type": "code",
      "source": [
        "model_mp.train(progress=True)"
      ],
      "metadata": {
        "id": "C9If5Tb4dDl9"
      },
      "execution_count": 278,
      "outputs": []
    },
    {
      "cell_type": "code",
      "source": [
        "reclist, map, ndcg = model_mp.testrec(\n",
        "    input_file = 'reviews_test.csv',\n",
        "    header = True,\n",
        "    usercol = 0,\n",
        "    itemcol = 1,\n",
        "    ratingcol = 2,\n",
        "    topn = 10,\n",
        "    output_file = 'results.csv',\n",
        "    relevance_threshold = 3.5,\n",
        "    includeRated = False\n",
        ")"
      ],
      "metadata": {
        "id": "AUcvPXkadb-e"
      },
      "execution_count": 279,
      "outputs": []
    },
    {
      "cell_type": "code",
      "source": [
        "def find_user(user_id):\n",
        "    for review in reviews:\n",
        "        review_uid = review['user_id']\n",
        "        if review_uid != user_id: continue\n",
        "        user_name = review['name']\n",
        "        return user_name\n"
      ],
      "metadata": {
        "id": "4BT3MyPMiDYm"
      },
      "execution_count": 280,
      "outputs": []
    },
    {
      "cell_type": "code",
      "source": [
        "users = list(reclist.keys())\n",
        "user_1 = random.choice(users)\n",
        "user_name = find_user(user_1)\n",
        "user_reclist = reclist[user_1]\n",
        "print(user_name)"
      ],
      "metadata": {
        "colab": {
          "base_uri": "https://localhost:8080/"
        },
        "id": "7j63aGvBiL0Y",
        "outputId": "3dd9c4cb-b7dd-4500-ca38-2d5d1468ab3a"
      },
      "execution_count": 281,
      "outputs": [
        {
          "output_type": "stream",
          "name": "stdout",
          "text": [
            "ryan lyford\n"
          ]
        }
      ]
    },
    {
      "cell_type": "markdown",
      "source": [
        "### Ejemplo"
      ],
      "metadata": {
        "id": "H7KqNzh6-t13"
      }
    },
    {
      "cell_type": "code",
      "source": [
        "def show_recommendations(user, reclist):\n",
        "    rec_business_cols = {\n",
        "        'name' : [],\n",
        "        'description' : [],\n",
        "        'url' : [],\n",
        "        'categories': []\n",
        "\n",
        "    }\n",
        "    for d in metadata:\n",
        "        if d['gmap_id'] not in reclist: continue\n",
        "        categories = \", \".join(d['category'])\n",
        "\n",
        "        rec_business_cols['name'].append(d['name'])\n",
        "        rec_business_cols['description'].append(d['description'])\n",
        "        rec_business_cols['url'].append(d['url'])\n",
        "\n",
        "        rec_business_cols['categories'].append(categories)\n",
        "\n",
        "    reclist_df = pd.DataFrame(rec_business_cols)\n",
        "    return reclist_df"
      ],
      "metadata": {
        "id": "5kitAJXuiyZJ"
      },
      "execution_count": 282,
      "outputs": []
    },
    {
      "cell_type": "code",
      "source": [
        "show_recommendations(user_1, user_reclist)"
      ],
      "metadata": {
        "colab": {
          "base_uri": "https://localhost:8080/",
          "height": 383
        },
        "id": "FZU4IxQ8jQxC",
        "outputId": "e4c50ab2-d841-4e37-ff81-abe3f6a3e0a2"
      },
      "execution_count": 283,
      "outputs": [
        {
          "output_type": "execute_result",
          "data": {
            "text/plain": [
              "                             name  \\\n",
              "0                 Jay Peak Resort   \n",
              "1      Bennington Battle Monument   \n",
              "2           Okemo Mountain Resort   \n",
              "3             Killington Ski Area   \n",
              "4  Green Mountain National Forest   \n",
              "5                   Ben & Jerry’s   \n",
              "6         Smugglers' Notch Resort   \n",
              "7       Church Street Marketplace   \n",
              "8                 Waterfront Park   \n",
              "9                 Prohibition Pig   \n",
              "\n",
              "                                         description  \\\n",
              "0  Ideal for skiing, this mountainside resort als...   \n",
              "1  This 306-ft. stone obelisk offers an elevator ...   \n",
              "2  Resort with ample skiing terrain & modern amen...   \n",
              "3  Boasting the largest vertical drop, this vast ...   \n",
              "4  Backcountry area with waterfalls, cliffs, pond...   \n",
              "5  Iconic Vermont-based ice cream parlor chain, k...   \n",
              "6  Modern condo units in a scenic mountain settin...   \n",
              "7  Local shops, eateries & entertainment in an ou...   \n",
              "8  Community park on the lake featuring a boardwa...   \n",
              "9  Hip joint with 20+ craft beers on tap, old-fas...   \n",
              "\n",
              "                                                 url  \\\n",
              "0  https://www.google.com/maps/place//data=!4m2!3...   \n",
              "1  https://www.google.com/maps/place//data=!4m2!3...   \n",
              "2  https://www.google.com/maps/place//data=!4m2!3...   \n",
              "3  https://www.google.com/maps/place//data=!4m2!3...   \n",
              "4  https://www.google.com/maps/place//data=!4m2!3...   \n",
              "5  https://www.google.com/maps/place//data=!4m2!3...   \n",
              "6  https://www.google.com/maps/place//data=!4m2!3...   \n",
              "7  https://www.google.com/maps/place//data=!4m2!3...   \n",
              "8  https://www.google.com/maps/place//data=!4m2!3...   \n",
              "9  https://www.google.com/maps/place//data=!4m2!3...   \n",
              "\n",
              "                                          categories  \n",
              "0  Ski resort, Golf course, Ice skating rink, Res...  \n",
              "1     Monument, Historical place, Tourist attraction  \n",
              "2                                       Resort hotel  \n",
              "3                     Ski resort, Tourist attraction  \n",
              "4                National forest, Tourist attraction  \n",
              "5  Ice cream shop, Bakery, Candy store, Caterer, ...  \n",
              "6  Resort hotel, Ski resort, Summer camp, Water park  \n",
              "7                                             Market  \n",
              "8                           Park, Tourist attraction  \n",
              "9  American restaurant, Brewery, Cocktail bar, Re...  "
            ],
            "text/html": [
              "\n",
              "  <div id=\"df-675d75a4-5a93-4db3-a479-dbb6a0b6cc5b\" class=\"colab-df-container\">\n",
              "    <div>\n",
              "<style scoped>\n",
              "    .dataframe tbody tr th:only-of-type {\n",
              "        vertical-align: middle;\n",
              "    }\n",
              "\n",
              "    .dataframe tbody tr th {\n",
              "        vertical-align: top;\n",
              "    }\n",
              "\n",
              "    .dataframe thead th {\n",
              "        text-align: right;\n",
              "    }\n",
              "</style>\n",
              "<table border=\"1\" class=\"dataframe\">\n",
              "  <thead>\n",
              "    <tr style=\"text-align: right;\">\n",
              "      <th></th>\n",
              "      <th>name</th>\n",
              "      <th>description</th>\n",
              "      <th>url</th>\n",
              "      <th>categories</th>\n",
              "    </tr>\n",
              "  </thead>\n",
              "  <tbody>\n",
              "    <tr>\n",
              "      <th>0</th>\n",
              "      <td>Jay Peak Resort</td>\n",
              "      <td>Ideal for skiing, this mountainside resort als...</td>\n",
              "      <td>https://www.google.com/maps/place//data=!4m2!3...</td>\n",
              "      <td>Ski resort, Golf course, Ice skating rink, Res...</td>\n",
              "    </tr>\n",
              "    <tr>\n",
              "      <th>1</th>\n",
              "      <td>Bennington Battle Monument</td>\n",
              "      <td>This 306-ft. stone obelisk offers an elevator ...</td>\n",
              "      <td>https://www.google.com/maps/place//data=!4m2!3...</td>\n",
              "      <td>Monument, Historical place, Tourist attraction</td>\n",
              "    </tr>\n",
              "    <tr>\n",
              "      <th>2</th>\n",
              "      <td>Okemo Mountain Resort</td>\n",
              "      <td>Resort with ample skiing terrain &amp; modern amen...</td>\n",
              "      <td>https://www.google.com/maps/place//data=!4m2!3...</td>\n",
              "      <td>Resort hotel</td>\n",
              "    </tr>\n",
              "    <tr>\n",
              "      <th>3</th>\n",
              "      <td>Killington Ski Area</td>\n",
              "      <td>Boasting the largest vertical drop, this vast ...</td>\n",
              "      <td>https://www.google.com/maps/place//data=!4m2!3...</td>\n",
              "      <td>Ski resort, Tourist attraction</td>\n",
              "    </tr>\n",
              "    <tr>\n",
              "      <th>4</th>\n",
              "      <td>Green Mountain National Forest</td>\n",
              "      <td>Backcountry area with waterfalls, cliffs, pond...</td>\n",
              "      <td>https://www.google.com/maps/place//data=!4m2!3...</td>\n",
              "      <td>National forest, Tourist attraction</td>\n",
              "    </tr>\n",
              "    <tr>\n",
              "      <th>5</th>\n",
              "      <td>Ben &amp; Jerry’s</td>\n",
              "      <td>Iconic Vermont-based ice cream parlor chain, k...</td>\n",
              "      <td>https://www.google.com/maps/place//data=!4m2!3...</td>\n",
              "      <td>Ice cream shop, Bakery, Candy store, Caterer, ...</td>\n",
              "    </tr>\n",
              "    <tr>\n",
              "      <th>6</th>\n",
              "      <td>Smugglers' Notch Resort</td>\n",
              "      <td>Modern condo units in a scenic mountain settin...</td>\n",
              "      <td>https://www.google.com/maps/place//data=!4m2!3...</td>\n",
              "      <td>Resort hotel, Ski resort, Summer camp, Water park</td>\n",
              "    </tr>\n",
              "    <tr>\n",
              "      <th>7</th>\n",
              "      <td>Church Street Marketplace</td>\n",
              "      <td>Local shops, eateries &amp; entertainment in an ou...</td>\n",
              "      <td>https://www.google.com/maps/place//data=!4m2!3...</td>\n",
              "      <td>Market</td>\n",
              "    </tr>\n",
              "    <tr>\n",
              "      <th>8</th>\n",
              "      <td>Waterfront Park</td>\n",
              "      <td>Community park on the lake featuring a boardwa...</td>\n",
              "      <td>https://www.google.com/maps/place//data=!4m2!3...</td>\n",
              "      <td>Park, Tourist attraction</td>\n",
              "    </tr>\n",
              "    <tr>\n",
              "      <th>9</th>\n",
              "      <td>Prohibition Pig</td>\n",
              "      <td>Hip joint with 20+ craft beers on tap, old-fas...</td>\n",
              "      <td>https://www.google.com/maps/place//data=!4m2!3...</td>\n",
              "      <td>American restaurant, Brewery, Cocktail bar, Re...</td>\n",
              "    </tr>\n",
              "  </tbody>\n",
              "</table>\n",
              "</div>\n",
              "    <div class=\"colab-df-buttons\">\n",
              "\n",
              "  <div class=\"colab-df-container\">\n",
              "    <button class=\"colab-df-convert\" onclick=\"convertToInteractive('df-675d75a4-5a93-4db3-a479-dbb6a0b6cc5b')\"\n",
              "            title=\"Convert this dataframe to an interactive table.\"\n",
              "            style=\"display:none;\">\n",
              "\n",
              "  <svg xmlns=\"http://www.w3.org/2000/svg\" height=\"24px\" viewBox=\"0 -960 960 960\">\n",
              "    <path d=\"M120-120v-720h720v720H120Zm60-500h600v-160H180v160Zm220 220h160v-160H400v160Zm0 220h160v-160H400v160ZM180-400h160v-160H180v160Zm440 0h160v-160H620v160ZM180-180h160v-160H180v160Zm440 0h160v-160H620v160Z\"/>\n",
              "  </svg>\n",
              "    </button>\n",
              "\n",
              "  <style>\n",
              "    .colab-df-container {\n",
              "      display:flex;\n",
              "      gap: 12px;\n",
              "    }\n",
              "\n",
              "    .colab-df-convert {\n",
              "      background-color: #E8F0FE;\n",
              "      border: none;\n",
              "      border-radius: 50%;\n",
              "      cursor: pointer;\n",
              "      display: none;\n",
              "      fill: #1967D2;\n",
              "      height: 32px;\n",
              "      padding: 0 0 0 0;\n",
              "      width: 32px;\n",
              "    }\n",
              "\n",
              "    .colab-df-convert:hover {\n",
              "      background-color: #E2EBFA;\n",
              "      box-shadow: 0px 1px 2px rgba(60, 64, 67, 0.3), 0px 1px 3px 1px rgba(60, 64, 67, 0.15);\n",
              "      fill: #174EA6;\n",
              "    }\n",
              "\n",
              "    .colab-df-buttons div {\n",
              "      margin-bottom: 4px;\n",
              "    }\n",
              "\n",
              "    [theme=dark] .colab-df-convert {\n",
              "      background-color: #3B4455;\n",
              "      fill: #D2E3FC;\n",
              "    }\n",
              "\n",
              "    [theme=dark] .colab-df-convert:hover {\n",
              "      background-color: #434B5C;\n",
              "      box-shadow: 0px 1px 3px 1px rgba(0, 0, 0, 0.15);\n",
              "      filter: drop-shadow(0px 1px 2px rgba(0, 0, 0, 0.3));\n",
              "      fill: #FFFFFF;\n",
              "    }\n",
              "  </style>\n",
              "\n",
              "    <script>\n",
              "      const buttonEl =\n",
              "        document.querySelector('#df-675d75a4-5a93-4db3-a479-dbb6a0b6cc5b button.colab-df-convert');\n",
              "      buttonEl.style.display =\n",
              "        google.colab.kernel.accessAllowed ? 'block' : 'none';\n",
              "\n",
              "      async function convertToInteractive(key) {\n",
              "        const element = document.querySelector('#df-675d75a4-5a93-4db3-a479-dbb6a0b6cc5b');\n",
              "        const dataTable =\n",
              "          await google.colab.kernel.invokeFunction('convertToInteractive',\n",
              "                                                    [key], {});\n",
              "        if (!dataTable) return;\n",
              "\n",
              "        const docLinkHtml = 'Like what you see? Visit the ' +\n",
              "          '<a target=\"_blank\" href=https://colab.research.google.com/notebooks/data_table.ipynb>data table notebook</a>'\n",
              "          + ' to learn more about interactive tables.';\n",
              "        element.innerHTML = '';\n",
              "        dataTable['output_type'] = 'display_data';\n",
              "        await google.colab.output.renderOutput(dataTable, element);\n",
              "        const docLink = document.createElement('div');\n",
              "        docLink.innerHTML = docLinkHtml;\n",
              "        element.appendChild(docLink);\n",
              "      }\n",
              "    </script>\n",
              "  </div>\n",
              "\n",
              "\n",
              "<div id=\"df-5a3570ed-862f-4ce6-a275-6ec0b8361421\">\n",
              "  <button class=\"colab-df-quickchart\" onclick=\"quickchart('df-5a3570ed-862f-4ce6-a275-6ec0b8361421')\"\n",
              "            title=\"Suggest charts\"\n",
              "            style=\"display:none;\">\n",
              "\n",
              "<svg xmlns=\"http://www.w3.org/2000/svg\" height=\"24px\"viewBox=\"0 0 24 24\"\n",
              "     width=\"24px\">\n",
              "    <g>\n",
              "        <path d=\"M19 3H5c-1.1 0-2 .9-2 2v14c0 1.1.9 2 2 2h14c1.1 0 2-.9 2-2V5c0-1.1-.9-2-2-2zM9 17H7v-7h2v7zm4 0h-2V7h2v10zm4 0h-2v-4h2v4z\"/>\n",
              "    </g>\n",
              "</svg>\n",
              "  </button>\n",
              "\n",
              "<style>\n",
              "  .colab-df-quickchart {\n",
              "      --bg-color: #E8F0FE;\n",
              "      --fill-color: #1967D2;\n",
              "      --hover-bg-color: #E2EBFA;\n",
              "      --hover-fill-color: #174EA6;\n",
              "      --disabled-fill-color: #AAA;\n",
              "      --disabled-bg-color: #DDD;\n",
              "  }\n",
              "\n",
              "  [theme=dark] .colab-df-quickchart {\n",
              "      --bg-color: #3B4455;\n",
              "      --fill-color: #D2E3FC;\n",
              "      --hover-bg-color: #434B5C;\n",
              "      --hover-fill-color: #FFFFFF;\n",
              "      --disabled-bg-color: #3B4455;\n",
              "      --disabled-fill-color: #666;\n",
              "  }\n",
              "\n",
              "  .colab-df-quickchart {\n",
              "    background-color: var(--bg-color);\n",
              "    border: none;\n",
              "    border-radius: 50%;\n",
              "    cursor: pointer;\n",
              "    display: none;\n",
              "    fill: var(--fill-color);\n",
              "    height: 32px;\n",
              "    padding: 0;\n",
              "    width: 32px;\n",
              "  }\n",
              "\n",
              "  .colab-df-quickchart:hover {\n",
              "    background-color: var(--hover-bg-color);\n",
              "    box-shadow: 0 1px 2px rgba(60, 64, 67, 0.3), 0 1px 3px 1px rgba(60, 64, 67, 0.15);\n",
              "    fill: var(--button-hover-fill-color);\n",
              "  }\n",
              "\n",
              "  .colab-df-quickchart-complete:disabled,\n",
              "  .colab-df-quickchart-complete:disabled:hover {\n",
              "    background-color: var(--disabled-bg-color);\n",
              "    fill: var(--disabled-fill-color);\n",
              "    box-shadow: none;\n",
              "  }\n",
              "\n",
              "  .colab-df-spinner {\n",
              "    border: 2px solid var(--fill-color);\n",
              "    border-color: transparent;\n",
              "    border-bottom-color: var(--fill-color);\n",
              "    animation:\n",
              "      spin 1s steps(1) infinite;\n",
              "  }\n",
              "\n",
              "  @keyframes spin {\n",
              "    0% {\n",
              "      border-color: transparent;\n",
              "      border-bottom-color: var(--fill-color);\n",
              "      border-left-color: var(--fill-color);\n",
              "    }\n",
              "    20% {\n",
              "      border-color: transparent;\n",
              "      border-left-color: var(--fill-color);\n",
              "      border-top-color: var(--fill-color);\n",
              "    }\n",
              "    30% {\n",
              "      border-color: transparent;\n",
              "      border-left-color: var(--fill-color);\n",
              "      border-top-color: var(--fill-color);\n",
              "      border-right-color: var(--fill-color);\n",
              "    }\n",
              "    40% {\n",
              "      border-color: transparent;\n",
              "      border-right-color: var(--fill-color);\n",
              "      border-top-color: var(--fill-color);\n",
              "    }\n",
              "    60% {\n",
              "      border-color: transparent;\n",
              "      border-right-color: var(--fill-color);\n",
              "    }\n",
              "    80% {\n",
              "      border-color: transparent;\n",
              "      border-right-color: var(--fill-color);\n",
              "      border-bottom-color: var(--fill-color);\n",
              "    }\n",
              "    90% {\n",
              "      border-color: transparent;\n",
              "      border-bottom-color: var(--fill-color);\n",
              "    }\n",
              "  }\n",
              "</style>\n",
              "\n",
              "  <script>\n",
              "    async function quickchart(key) {\n",
              "      const quickchartButtonEl =\n",
              "        document.querySelector('#' + key + ' button');\n",
              "      quickchartButtonEl.disabled = true;  // To prevent multiple clicks.\n",
              "      quickchartButtonEl.classList.add('colab-df-spinner');\n",
              "      try {\n",
              "        const charts = await google.colab.kernel.invokeFunction(\n",
              "            'suggestCharts', [key], {});\n",
              "      } catch (error) {\n",
              "        console.error('Error during call to suggestCharts:', error);\n",
              "      }\n",
              "      quickchartButtonEl.classList.remove('colab-df-spinner');\n",
              "      quickchartButtonEl.classList.add('colab-df-quickchart-complete');\n",
              "    }\n",
              "    (() => {\n",
              "      let quickchartButtonEl =\n",
              "        document.querySelector('#df-5a3570ed-862f-4ce6-a275-6ec0b8361421 button');\n",
              "      quickchartButtonEl.style.display =\n",
              "        google.colab.kernel.accessAllowed ? 'block' : 'none';\n",
              "    })();\n",
              "  </script>\n",
              "</div>\n",
              "\n",
              "    </div>\n",
              "  </div>\n"
            ],
            "application/vnd.google.colaboratory.intrinsic+json": {
              "type": "dataframe",
              "summary": "{\n  \"name\": \"show_recommendations(user_1, user_reclist)\",\n  \"rows\": 10,\n  \"fields\": [\n    {\n      \"column\": \"name\",\n      \"properties\": {\n        \"dtype\": \"string\",\n        \"num_unique_values\": 10,\n        \"samples\": [\n          \"Waterfront Park\",\n          \"Bennington Battle Monument\",\n          \"Ben & Jerry\\u2019s\"\n        ],\n        \"semantic_type\": \"\",\n        \"description\": \"\"\n      }\n    },\n    {\n      \"column\": \"description\",\n      \"properties\": {\n        \"dtype\": \"string\",\n        \"num_unique_values\": 10,\n        \"samples\": [\n          \"Community park on the lake featuring a boardwalk, sailing lessons & kayak & canoe rentals.\",\n          \"This 306-ft. stone obelisk offers an elevator to an observation deck with views of 3 states.\",\n          \"Iconic Vermont-based ice cream parlor chain, known for its creative, cleverly named flavors.\"\n        ],\n        \"semantic_type\": \"\",\n        \"description\": \"\"\n      }\n    },\n    {\n      \"column\": \"url\",\n      \"properties\": {\n        \"dtype\": \"string\",\n        \"num_unique_values\": 10,\n        \"samples\": [\n          \"https://www.google.com/maps/place//data=!4m2!3m1!1s0x4cca7af026e6958b:0x17983ab63aa4bd15?authuser=-1&hl=en&gl=us\",\n          \"https://www.google.com/maps/place//data=!4m2!3m1!1s0x89e096f7e15a9b7f:0xf58e0b3c881d621e?authuser=-1&hl=en&gl\",\n          \"https://www.google.com/maps/place//data=!4m2!3m1!1s0x4cb59f33f2d5436f:0x3b0bcf158db991ca?authuser=-1&hl=en&gl=us\"\n        ],\n        \"semantic_type\": \"\",\n        \"description\": \"\"\n      }\n    },\n    {\n      \"column\": \"categories\",\n      \"properties\": {\n        \"dtype\": \"string\",\n        \"num_unique_values\": 10,\n        \"samples\": [\n          \"Park, Tourist attraction\",\n          \"Monument, Historical place, Tourist attraction\",\n          \"Ice cream shop, Bakery, Candy store, Caterer, Snack bar\"\n        ],\n        \"semantic_type\": \"\",\n        \"description\": \"\"\n      }\n    }\n  ]\n}"
            }
          },
          "metadata": {},
          "execution_count": 283
        }
      ]
    },
    {
      "cell_type": "markdown",
      "source": [
        "### Metricas"
      ],
      "metadata": {
        "id": "uj_b88gx-rjs"
      }
    },
    {
      "cell_type": "code",
      "source": [
        "def metrics(user_id, reclist):\n",
        "    parameters = (user_id, reclist, 10, 3.5, False)\n",
        "    auc = round(model_mp.AUC(*parameters), 6)\n",
        "    ndcg = model_mp.nDCG(*parameters)\n",
        "    print(f'MAP@10: {map}')\n",
        "    print(f'DCG@10: {ndcg}')\n",
        ""
      ],
      "metadata": {
        "id": "9cKOPQBAl2A0"
      },
      "execution_count": 284,
      "outputs": []
    },
    {
      "cell_type": "code",
      "source": [
        "metrics(user_1, user_reclist)"
      ],
      "metadata": {
        "colab": {
          "base_uri": "https://localhost:8080/"
        },
        "id": "h3gtgNCWn_Yg",
        "outputId": "ebf8b5f5-5890-4a86-ac2a-5c325574202c"
      },
      "execution_count": 285,
      "outputs": [
        {
          "output_type": "stream",
          "name": "stdout",
          "text": [
            "MAP@10: 0.03595287842781492\n",
            "DCG@10: 0.0\n"
          ]
        }
      ]
    },
    {
      "cell_type": "markdown",
      "source": [
        "## Random"
      ],
      "metadata": {
        "id": "fz8xqsj8o8zC"
      }
    },
    {
      "cell_type": "code",
      "source": [
        "def precision_at_k(r, k):\n",
        "    assert 1 <= k <= r.size\n",
        "    return (np.asarray(r)[:k] != 0).mean()\n",
        "\n",
        "def average_precision_at_k(r, k):\n",
        "    r = np.asarray(r)\n",
        "    score = 0.\n",
        "    for i in range(min(k, r.size)):\n",
        "        score += precision_at_k(r, i + 1)\n",
        "    return score / k\n",
        "\n",
        "def dcg_at_k(r, k):\n",
        "    r = np.asfarray(r)[:k]\n",
        "    if r.size:\n",
        "        return np.sum(np.subtract(np.power(2, r), 1) / np.log2(np.arange(2, r.size + 2)))\n",
        "    return 0.\n",
        "\n",
        "def idcg_at_k(k):\n",
        "    return dcg_at_k(np.ones(k), k)\n",
        "\n",
        "def ndcg_at_k(r, k, max_relevant):\n",
        "    idcg = idcg_at_k(min(k, max_relevant))\n",
        "    if not idcg:\n",
        "        return 0.\n",
        "    return dcg_at_k(r, k) / idcg\n",
        "\n",
        "def evaluate_model(random_reclist, n):\n",
        "    mean_ap = 0.\n",
        "    mean_ndcg = 0.\n",
        "    for u in user_items_test.keys():\n",
        "        reclist = random_reclist[u]\n",
        "        rel_vector = [np.isin(user_items_test[u], reclist, assume_unique=True).astype(int)]\n",
        "        mean_ap += average_precision_at_k(rel_vector, n)\n",
        "        mean_ndcg += ndcg_at_k(rel_vector, n, len(user_items_test[u]))\n",
        "\n",
        "    mean_ap /= len(user_items_test)\n",
        "    mean_ndcg /= len(user_items_test)\n",
        "\n",
        "    return mean_ap, mean_ndcg\n"
      ],
      "metadata": {
        "id": "P06mm-q4oCym"
      },
      "execution_count": 264,
      "outputs": []
    },
    {
      "cell_type": "code",
      "source": [
        "user_items_train = {}\n",
        "itemset = set()\n",
        "\n",
        "for row in X_train.itertuples():\n",
        "    if row[1] not in user_items_train:\n",
        "        user_items_train[row[1]] = []\n",
        "\n",
        "    user_items_train[row[1]].append(row[2])\n",
        "    itemset.add(row[2])\n",
        "\n",
        "itemset = np.sort(list(itemset))\n",
        "\n",
        "\n",
        "user_items_test = {}\n",
        "\n",
        "for row in X_test.itertuples():\n",
        "    if row[1] not in user_items_test:\n",
        "        user_items_test[row[1]] = []\n",
        "\n",
        "    user_items_test[row[1]].append(row[2])"
      ],
      "metadata": {
        "id": "-iC0XC2E9De5"
      },
      "execution_count": 265,
      "outputs": []
    },
    {
      "cell_type": "code",
      "source": [
        "random_recommendations = {}\n",
        "\n",
        "for user_id in X_test['user_id'].to_list():\n",
        "    reclist = set(random.sample(X_train['gmap_id'].to_list(), k=10))\n",
        "    random_recommendations[user_id] = reclist"
      ],
      "metadata": {
        "id": "ufwPmjXhpA-N"
      },
      "execution_count": 266,
      "outputs": []
    },
    {
      "cell_type": "markdown",
      "source": [
        "### Ejemplo"
      ],
      "metadata": {
        "id": "ykhixEcP-1hd"
      }
    },
    {
      "cell_type": "code",
      "source": [
        "user_2 = random.choice(list(user_items_test.keys()))"
      ],
      "metadata": {
        "id": "BV0W_9dhpT_s"
      },
      "execution_count": 267,
      "outputs": []
    },
    {
      "cell_type": "code",
      "source": [
        "show_recommendations(user_2, random_recommendations[user_2])"
      ],
      "metadata": {
        "colab": {
          "base_uri": "https://localhost:8080/",
          "height": 383
        },
        "id": "cEfrsC2TqJXF",
        "outputId": "3b276e71-794d-4c8d-dcbb-7b92b20e7a13"
      },
      "execution_count": 268,
      "outputs": [
        {
          "output_type": "execute_result",
          "data": {
            "text/plain": [
              "                             name  \\\n",
              "0           Lye Brook Falls Trail   \n",
              "1            Mulligan's Irish Pub   \n",
              "2      Bennington Battle Monument   \n",
              "3  Killington Bear Mountain Lodge   \n",
              "4     Maple Sugar & Vermont Spice   \n",
              "5         Camel's Hump State Park   \n",
              "6              The Skinny Pancake   \n",
              "7            Quechee Gorge Bridge   \n",
              "8                   Ben & Jerry’s   \n",
              "9              The Friendly Toast   \n",
              "\n",
              "                                         description  \\\n",
              "0                                               None   \n",
              "1                                               None   \n",
              "2  This 306-ft. stone obelisk offers an elevator ...   \n",
              "3                                               None   \n",
              "4  All-day breakfasts & homey lunch classics prep...   \n",
              "5  This primitive timber management & wildlife pr...   \n",
              "6  Local chain featuring breakfast, crepes, panin...   \n",
              "7                                               None   \n",
              "8  Iconic Vermont-based ice cream parlor chain, k...   \n",
              "9                                               None   \n",
              "\n",
              "                                                 url  \\\n",
              "0  https://www.google.com/maps/place//data=!4m2!3...   \n",
              "1  https://www.google.com/maps/place//data=!4m2!3...   \n",
              "2  https://www.google.com/maps/place//data=!4m2!3...   \n",
              "3  https://www.google.com/maps/place//data=!4m2!3...   \n",
              "4  https://www.google.com/maps/place//data=!4m2!3...   \n",
              "5  https://www.google.com/maps/place//data=!4m2!3...   \n",
              "6  https://www.google.com/maps/place//data=!4m2!3...   \n",
              "7  https://www.google.com/maps/place//data=!4m2!3...   \n",
              "8  https://www.google.com/maps/place//data=!4m2!3...   \n",
              "9  https://www.google.com/maps/place//data=!4m2!3...   \n",
              "\n",
              "                                          categories  \n",
              "0                                        Hiking area  \n",
              "1                                                Pub  \n",
              "2     Monument, Historical place, Tourist attraction  \n",
              "3                                         Ski resort  \n",
              "4                   Breakfast restaurant, Restaurant  \n",
              "5               State park, Park, Tourist attraction  \n",
              "6                                         Restaurant  \n",
              "7    Bridge, Historical landmark, Tourist attraction  \n",
              "8  Ice cream shop, Bakery, Candy store, Caterer, ...  \n",
              "9                      Brunch restaurant, Restaurant  "
            ],
            "text/html": [
              "\n",
              "  <div id=\"df-04bc91dd-6193-40a1-8843-424252b51c05\" class=\"colab-df-container\">\n",
              "    <div>\n",
              "<style scoped>\n",
              "    .dataframe tbody tr th:only-of-type {\n",
              "        vertical-align: middle;\n",
              "    }\n",
              "\n",
              "    .dataframe tbody tr th {\n",
              "        vertical-align: top;\n",
              "    }\n",
              "\n",
              "    .dataframe thead th {\n",
              "        text-align: right;\n",
              "    }\n",
              "</style>\n",
              "<table border=\"1\" class=\"dataframe\">\n",
              "  <thead>\n",
              "    <tr style=\"text-align: right;\">\n",
              "      <th></th>\n",
              "      <th>name</th>\n",
              "      <th>description</th>\n",
              "      <th>url</th>\n",
              "      <th>categories</th>\n",
              "    </tr>\n",
              "  </thead>\n",
              "  <tbody>\n",
              "    <tr>\n",
              "      <th>0</th>\n",
              "      <td>Lye Brook Falls Trail</td>\n",
              "      <td>None</td>\n",
              "      <td>https://www.google.com/maps/place//data=!4m2!3...</td>\n",
              "      <td>Hiking area</td>\n",
              "    </tr>\n",
              "    <tr>\n",
              "      <th>1</th>\n",
              "      <td>Mulligan's Irish Pub</td>\n",
              "      <td>None</td>\n",
              "      <td>https://www.google.com/maps/place//data=!4m2!3...</td>\n",
              "      <td>Pub</td>\n",
              "    </tr>\n",
              "    <tr>\n",
              "      <th>2</th>\n",
              "      <td>Bennington Battle Monument</td>\n",
              "      <td>This 306-ft. stone obelisk offers an elevator ...</td>\n",
              "      <td>https://www.google.com/maps/place//data=!4m2!3...</td>\n",
              "      <td>Monument, Historical place, Tourist attraction</td>\n",
              "    </tr>\n",
              "    <tr>\n",
              "      <th>3</th>\n",
              "      <td>Killington Bear Mountain Lodge</td>\n",
              "      <td>None</td>\n",
              "      <td>https://www.google.com/maps/place//data=!4m2!3...</td>\n",
              "      <td>Ski resort</td>\n",
              "    </tr>\n",
              "    <tr>\n",
              "      <th>4</th>\n",
              "      <td>Maple Sugar &amp; Vermont Spice</td>\n",
              "      <td>All-day breakfasts &amp; homey lunch classics prep...</td>\n",
              "      <td>https://www.google.com/maps/place//data=!4m2!3...</td>\n",
              "      <td>Breakfast restaurant, Restaurant</td>\n",
              "    </tr>\n",
              "    <tr>\n",
              "      <th>5</th>\n",
              "      <td>Camel's Hump State Park</td>\n",
              "      <td>This primitive timber management &amp; wildlife pr...</td>\n",
              "      <td>https://www.google.com/maps/place//data=!4m2!3...</td>\n",
              "      <td>State park, Park, Tourist attraction</td>\n",
              "    </tr>\n",
              "    <tr>\n",
              "      <th>6</th>\n",
              "      <td>The Skinny Pancake</td>\n",
              "      <td>Local chain featuring breakfast, crepes, panin...</td>\n",
              "      <td>https://www.google.com/maps/place//data=!4m2!3...</td>\n",
              "      <td>Restaurant</td>\n",
              "    </tr>\n",
              "    <tr>\n",
              "      <th>7</th>\n",
              "      <td>Quechee Gorge Bridge</td>\n",
              "      <td>None</td>\n",
              "      <td>https://www.google.com/maps/place//data=!4m2!3...</td>\n",
              "      <td>Bridge, Historical landmark, Tourist attraction</td>\n",
              "    </tr>\n",
              "    <tr>\n",
              "      <th>8</th>\n",
              "      <td>Ben &amp; Jerry’s</td>\n",
              "      <td>Iconic Vermont-based ice cream parlor chain, k...</td>\n",
              "      <td>https://www.google.com/maps/place//data=!4m2!3...</td>\n",
              "      <td>Ice cream shop, Bakery, Candy store, Caterer, ...</td>\n",
              "    </tr>\n",
              "    <tr>\n",
              "      <th>9</th>\n",
              "      <td>The Friendly Toast</td>\n",
              "      <td>None</td>\n",
              "      <td>https://www.google.com/maps/place//data=!4m2!3...</td>\n",
              "      <td>Brunch restaurant, Restaurant</td>\n",
              "    </tr>\n",
              "  </tbody>\n",
              "</table>\n",
              "</div>\n",
              "    <div class=\"colab-df-buttons\">\n",
              "\n",
              "  <div class=\"colab-df-container\">\n",
              "    <button class=\"colab-df-convert\" onclick=\"convertToInteractive('df-04bc91dd-6193-40a1-8843-424252b51c05')\"\n",
              "            title=\"Convert this dataframe to an interactive table.\"\n",
              "            style=\"display:none;\">\n",
              "\n",
              "  <svg xmlns=\"http://www.w3.org/2000/svg\" height=\"24px\" viewBox=\"0 -960 960 960\">\n",
              "    <path d=\"M120-120v-720h720v720H120Zm60-500h600v-160H180v160Zm220 220h160v-160H400v160Zm0 220h160v-160H400v160ZM180-400h160v-160H180v160Zm440 0h160v-160H620v160ZM180-180h160v-160H180v160Zm440 0h160v-160H620v160Z\"/>\n",
              "  </svg>\n",
              "    </button>\n",
              "\n",
              "  <style>\n",
              "    .colab-df-container {\n",
              "      display:flex;\n",
              "      gap: 12px;\n",
              "    }\n",
              "\n",
              "    .colab-df-convert {\n",
              "      background-color: #E8F0FE;\n",
              "      border: none;\n",
              "      border-radius: 50%;\n",
              "      cursor: pointer;\n",
              "      display: none;\n",
              "      fill: #1967D2;\n",
              "      height: 32px;\n",
              "      padding: 0 0 0 0;\n",
              "      width: 32px;\n",
              "    }\n",
              "\n",
              "    .colab-df-convert:hover {\n",
              "      background-color: #E2EBFA;\n",
              "      box-shadow: 0px 1px 2px rgba(60, 64, 67, 0.3), 0px 1px 3px 1px rgba(60, 64, 67, 0.15);\n",
              "      fill: #174EA6;\n",
              "    }\n",
              "\n",
              "    .colab-df-buttons div {\n",
              "      margin-bottom: 4px;\n",
              "    }\n",
              "\n",
              "    [theme=dark] .colab-df-convert {\n",
              "      background-color: #3B4455;\n",
              "      fill: #D2E3FC;\n",
              "    }\n",
              "\n",
              "    [theme=dark] .colab-df-convert:hover {\n",
              "      background-color: #434B5C;\n",
              "      box-shadow: 0px 1px 3px 1px rgba(0, 0, 0, 0.15);\n",
              "      filter: drop-shadow(0px 1px 2px rgba(0, 0, 0, 0.3));\n",
              "      fill: #FFFFFF;\n",
              "    }\n",
              "  </style>\n",
              "\n",
              "    <script>\n",
              "      const buttonEl =\n",
              "        document.querySelector('#df-04bc91dd-6193-40a1-8843-424252b51c05 button.colab-df-convert');\n",
              "      buttonEl.style.display =\n",
              "        google.colab.kernel.accessAllowed ? 'block' : 'none';\n",
              "\n",
              "      async function convertToInteractive(key) {\n",
              "        const element = document.querySelector('#df-04bc91dd-6193-40a1-8843-424252b51c05');\n",
              "        const dataTable =\n",
              "          await google.colab.kernel.invokeFunction('convertToInteractive',\n",
              "                                                    [key], {});\n",
              "        if (!dataTable) return;\n",
              "\n",
              "        const docLinkHtml = 'Like what you see? Visit the ' +\n",
              "          '<a target=\"_blank\" href=https://colab.research.google.com/notebooks/data_table.ipynb>data table notebook</a>'\n",
              "          + ' to learn more about interactive tables.';\n",
              "        element.innerHTML = '';\n",
              "        dataTable['output_type'] = 'display_data';\n",
              "        await google.colab.output.renderOutput(dataTable, element);\n",
              "        const docLink = document.createElement('div');\n",
              "        docLink.innerHTML = docLinkHtml;\n",
              "        element.appendChild(docLink);\n",
              "      }\n",
              "    </script>\n",
              "  </div>\n",
              "\n",
              "\n",
              "<div id=\"df-5e35d7e1-2f07-4b21-9c9d-52ffdd6b1093\">\n",
              "  <button class=\"colab-df-quickchart\" onclick=\"quickchart('df-5e35d7e1-2f07-4b21-9c9d-52ffdd6b1093')\"\n",
              "            title=\"Suggest charts\"\n",
              "            style=\"display:none;\">\n",
              "\n",
              "<svg xmlns=\"http://www.w3.org/2000/svg\" height=\"24px\"viewBox=\"0 0 24 24\"\n",
              "     width=\"24px\">\n",
              "    <g>\n",
              "        <path d=\"M19 3H5c-1.1 0-2 .9-2 2v14c0 1.1.9 2 2 2h14c1.1 0 2-.9 2-2V5c0-1.1-.9-2-2-2zM9 17H7v-7h2v7zm4 0h-2V7h2v10zm4 0h-2v-4h2v4z\"/>\n",
              "    </g>\n",
              "</svg>\n",
              "  </button>\n",
              "\n",
              "<style>\n",
              "  .colab-df-quickchart {\n",
              "      --bg-color: #E8F0FE;\n",
              "      --fill-color: #1967D2;\n",
              "      --hover-bg-color: #E2EBFA;\n",
              "      --hover-fill-color: #174EA6;\n",
              "      --disabled-fill-color: #AAA;\n",
              "      --disabled-bg-color: #DDD;\n",
              "  }\n",
              "\n",
              "  [theme=dark] .colab-df-quickchart {\n",
              "      --bg-color: #3B4455;\n",
              "      --fill-color: #D2E3FC;\n",
              "      --hover-bg-color: #434B5C;\n",
              "      --hover-fill-color: #FFFFFF;\n",
              "      --disabled-bg-color: #3B4455;\n",
              "      --disabled-fill-color: #666;\n",
              "  }\n",
              "\n",
              "  .colab-df-quickchart {\n",
              "    background-color: var(--bg-color);\n",
              "    border: none;\n",
              "    border-radius: 50%;\n",
              "    cursor: pointer;\n",
              "    display: none;\n",
              "    fill: var(--fill-color);\n",
              "    height: 32px;\n",
              "    padding: 0;\n",
              "    width: 32px;\n",
              "  }\n",
              "\n",
              "  .colab-df-quickchart:hover {\n",
              "    background-color: var(--hover-bg-color);\n",
              "    box-shadow: 0 1px 2px rgba(60, 64, 67, 0.3), 0 1px 3px 1px rgba(60, 64, 67, 0.15);\n",
              "    fill: var(--button-hover-fill-color);\n",
              "  }\n",
              "\n",
              "  .colab-df-quickchart-complete:disabled,\n",
              "  .colab-df-quickchart-complete:disabled:hover {\n",
              "    background-color: var(--disabled-bg-color);\n",
              "    fill: var(--disabled-fill-color);\n",
              "    box-shadow: none;\n",
              "  }\n",
              "\n",
              "  .colab-df-spinner {\n",
              "    border: 2px solid var(--fill-color);\n",
              "    border-color: transparent;\n",
              "    border-bottom-color: var(--fill-color);\n",
              "    animation:\n",
              "      spin 1s steps(1) infinite;\n",
              "  }\n",
              "\n",
              "  @keyframes spin {\n",
              "    0% {\n",
              "      border-color: transparent;\n",
              "      border-bottom-color: var(--fill-color);\n",
              "      border-left-color: var(--fill-color);\n",
              "    }\n",
              "    20% {\n",
              "      border-color: transparent;\n",
              "      border-left-color: var(--fill-color);\n",
              "      border-top-color: var(--fill-color);\n",
              "    }\n",
              "    30% {\n",
              "      border-color: transparent;\n",
              "      border-left-color: var(--fill-color);\n",
              "      border-top-color: var(--fill-color);\n",
              "      border-right-color: var(--fill-color);\n",
              "    }\n",
              "    40% {\n",
              "      border-color: transparent;\n",
              "      border-right-color: var(--fill-color);\n",
              "      border-top-color: var(--fill-color);\n",
              "    }\n",
              "    60% {\n",
              "      border-color: transparent;\n",
              "      border-right-color: var(--fill-color);\n",
              "    }\n",
              "    80% {\n",
              "      border-color: transparent;\n",
              "      border-right-color: var(--fill-color);\n",
              "      border-bottom-color: var(--fill-color);\n",
              "    }\n",
              "    90% {\n",
              "      border-color: transparent;\n",
              "      border-bottom-color: var(--fill-color);\n",
              "    }\n",
              "  }\n",
              "</style>\n",
              "\n",
              "  <script>\n",
              "    async function quickchart(key) {\n",
              "      const quickchartButtonEl =\n",
              "        document.querySelector('#' + key + ' button');\n",
              "      quickchartButtonEl.disabled = true;  // To prevent multiple clicks.\n",
              "      quickchartButtonEl.classList.add('colab-df-spinner');\n",
              "      try {\n",
              "        const charts = await google.colab.kernel.invokeFunction(\n",
              "            'suggestCharts', [key], {});\n",
              "      } catch (error) {\n",
              "        console.error('Error during call to suggestCharts:', error);\n",
              "      }\n",
              "      quickchartButtonEl.classList.remove('colab-df-spinner');\n",
              "      quickchartButtonEl.classList.add('colab-df-quickchart-complete');\n",
              "    }\n",
              "    (() => {\n",
              "      let quickchartButtonEl =\n",
              "        document.querySelector('#df-5e35d7e1-2f07-4b21-9c9d-52ffdd6b1093 button');\n",
              "      quickchartButtonEl.style.display =\n",
              "        google.colab.kernel.accessAllowed ? 'block' : 'none';\n",
              "    })();\n",
              "  </script>\n",
              "</div>\n",
              "\n",
              "    </div>\n",
              "  </div>\n"
            ],
            "application/vnd.google.colaboratory.intrinsic+json": {
              "type": "dataframe",
              "summary": "{\n  \"name\": \"show_recommendations(user_2, random_recommendations[user_2])\",\n  \"rows\": 10,\n  \"fields\": [\n    {\n      \"column\": \"name\",\n      \"properties\": {\n        \"dtype\": \"string\",\n        \"num_unique_values\": 10,\n        \"samples\": [\n          \"Ben & Jerry\\u2019s\",\n          \"Mulligan's Irish Pub\",\n          \"Camel's Hump State Park\"\n        ],\n        \"semantic_type\": \"\",\n        \"description\": \"\"\n      }\n    },\n    {\n      \"column\": \"description\",\n      \"properties\": {\n        \"dtype\": \"string\",\n        \"num_unique_values\": 5,\n        \"samples\": [\n          \"All-day breakfasts & homey lunch classics prepared in a rustic, working sugar house.\",\n          \"Iconic Vermont-based ice cream parlor chain, known for its creative, cleverly named flavors.\",\n          \"This primitive timber management & wildlife preservation area features mountains & trails.\"\n        ],\n        \"semantic_type\": \"\",\n        \"description\": \"\"\n      }\n    },\n    {\n      \"column\": \"url\",\n      \"properties\": {\n        \"dtype\": \"string\",\n        \"num_unique_values\": 10,\n        \"samples\": [\n          \"https://www.google.com/maps/place//data=!4m2!3m1!1s0x4cb59f33f2d5436f:0x3b0bcf158db991ca?authuser=-1&hl=en&gl=us\",\n          \"https://www.google.com/maps/place//data=!4m2!3m1!1s0x4cb506de61fa2e15:0xf91028057c8b128b?authuser=-1&hl=en&gl=us\",\n          \"https://www.google.com/maps/place//data=!4m2!3m1!1s0x4cb575fe055a55d3:0x6752d205d36ecdc4?authuser=-1&hl=en&gl=us\"\n        ],\n        \"semantic_type\": \"\",\n        \"description\": \"\"\n      }\n    },\n    {\n      \"column\": \"categories\",\n      \"properties\": {\n        \"dtype\": \"string\",\n        \"num_unique_values\": 10,\n        \"samples\": [\n          \"Ice cream shop, Bakery, Candy store, Caterer, Snack bar\",\n          \"Pub\",\n          \"State park, Park, Tourist attraction\"\n        ],\n        \"semantic_type\": \"\",\n        \"description\": \"\"\n      }\n    }\n  ]\n}"
            }
          },
          "metadata": {},
          "execution_count": 268
        }
      ]
    },
    {
      "cell_type": "markdown",
      "source": [
        "### Metricas"
      ],
      "metadata": {
        "id": "luGRyKcj-20x"
      }
    },
    {
      "cell_type": "code",
      "source": [
        "mean_ap, mean_ndcg = evaluate_model(random_recommendations, n=10)\n",
        "print(\"nDCG@10\", mean_ndcg)\n",
        "print(\"MAP@10\", mean_ap)\n"
      ],
      "metadata": {
        "colab": {
          "base_uri": "https://localhost:8080/"
        },
        "id": "pRuf_yIC9lRF",
        "outputId": "482a97b0-ae4f-4019-fc5b-15c94e0e2572"
      },
      "execution_count": 271,
      "outputs": [
        {
          "output_type": "stream",
          "name": "stdout",
          "text": [
            "nDCG@10 0.0\n",
            "MAP@10 0.0\n"
          ]
        }
      ]
    },
    {
      "cell_type": "code",
      "source": [],
      "metadata": {
        "id": "DQUG3UQn6Ssk"
      },
      "execution_count": null,
      "outputs": []
    }
  ]
}
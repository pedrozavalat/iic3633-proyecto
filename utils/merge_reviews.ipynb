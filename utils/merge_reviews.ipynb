{
  "nbformat": 4,
  "nbformat_minor": 0,
  "metadata": {
    "colab": {
      "provenance": []
    },
    "kernelspec": {
      "name": "python3",
      "display_name": "Python 3"
    },
    "language_info": {
      "name": "python"
    }
  },
  "cells": [
    {
      "cell_type": "code",
      "source": [
        "print(\"Importando librerias\")\n",
        "import random\n",
        "from io import BytesIO\n",
        "from requests import get\n",
        "import concurrent.futures\n",
        "import gzip\n",
        "import json\n",
        "import pandas as pd\n",
        "import numpy as np\n",
        "import os\n",
        "from tqdm import tqdm\n",
        "import time\n",
        "from itertools import chain\n",
        "print(\"* Librerias importadas * \")"
      ],
      "metadata": {
        "colab": {
          "base_uri": "https://localhost:8080/"
        },
        "id": "l7kAkPqVJRNG",
        "outputId": "82966edf-94b6-4c2b-fbb1-9e9d1ca9ae72"
      },
      "execution_count": null,
      "outputs": [
        {
          "output_type": "stream",
          "name": "stdout",
          "text": [
            "Importando librerias\n",
            "* Librerias importadas * \n"
          ]
        }
      ]
    },
    {
      "cell_type": "code",
      "source": [
        "URL_REVIEW = \"https://www.dropbox.com/scl/fi/6u1yfcnnf4jqmhedx519u/Reviews.csv?rlkey=xqmvvohkq0i0k7hho79fs43b6&st=lfulle1j&dl=0\"\n",
        "URL_IMGS = \"https://www.dropbox.com/scl/fi/2o3fmzj4jdsfujfhu0mns/reviews.zip?rlkey=yc8doasvaavp2993huknxw6jt&st=5dejcywv&dl=0\""
      ],
      "metadata": {
        "id": "FSKAzRLbFq2z"
      },
      "execution_count": null,
      "outputs": []
    },
    {
      "cell_type": "code",
      "source": [
        "def download_data(url_reviews, url_imgs):\n",
        "    # Reviews dataset\n",
        "    !wget {url_reviews}\n",
        "    !mv Reviews.csv?rlkey=xqmvvohkq0i0k7hho79fs43b6 reviews.csv\n",
        "\n",
        "    # Imagenes asociadas\n",
        "    !wget {url_}\n",
        "    !mv reviews.zip?rlkey=yc8doasvaavp2993huknxw6jt reviews.zip\n",
        "    !unzip reviews.zip\n",
        "\n",
        "def unzip_cities_folders(cities_list):\n",
        "    for city_name in cities_list:\n",
        "\n",
        "        !unzip {city_name}.zip\n",
        "        !mv {city_name} reviews\n",
        "\n",
        "def update_reviews(cities_list):\n",
        "    reviews = pd.read_csv('reviews.csv')\n",
        "\n",
        "    print(\"Data frame antes\")\n",
        "    print(reviews.head())\n",
        "    print(reviews.shape)\n",
        "\n",
        "    cities = { city : { \"Dataframe\" : None } for city in cities_list}\n",
        "    for city in cities.keys():\n",
        "        print(\"Ciudad: \", city)\n",
        "        print(\"Descargando datos\")\n",
        "        cities[city]['Dataframe'] = pd.read_csv(f'Reviews{city}.csv')\n",
        "        print(\"Total de datos: \", len(cities[city]['Dataframe']))\n",
        "\n",
        "    reviews = pd.concat([reviews, cities[city]['Dataframe']])\n",
        "\n",
        "    print(\"Data frame antes\")\n",
        "    print(reviews.head())\n",
        "    print(reviews.shape)\n",
        "    print(reviews.state.value_counts())\n",
        "\n",
        "    return reviews\n",
        "\n",
        "def save_reviews(reviews):\n",
        "    !zip -r reviews.zip reviews\n",
        "    reviews.to_csv('Reviews.csv', index=False)\n",
        "\n",
        "def merge(cities_list):\n",
        "    download_data(URL_REVIEW, URL_IMGS)\n",
        "    unzip_cities_folders(cities_list)\n",
        "    #reviews = update_reviews(cities_list)\n",
        "    #save_reviews(reviews)\n",
        "    print(\"Merge realizado con exito!\")"
      ],
      "metadata": {
        "id": "vCphHh8dJTLH"
      },
      "execution_count": null,
      "outputs": []
    },
    {
      "cell_type": "code",
      "execution_count": null,
      "metadata": {
        "id": "ffLkBNq3r4vh"
      },
      "outputs": [],
      "source": [
        "new_cities = [\n",
        "\n",
        "]\n"
      ]
    },
    {
      "cell_type": "code",
      "source": [],
      "metadata": {
        "id": "MCyDUpikLYQf"
      },
      "execution_count": null,
      "outputs": []
    }
  ]
}